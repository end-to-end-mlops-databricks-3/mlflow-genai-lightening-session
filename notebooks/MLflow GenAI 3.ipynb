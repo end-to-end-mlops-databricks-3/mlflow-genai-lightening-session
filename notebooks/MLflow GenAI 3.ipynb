{
 "cells": [
  {
   "cell_type": "markdown",
   "metadata": {
    "application/vnd.databricks.v1+cell": {
     "cellMetadata": {},
     "inputWidgets": {},
     "nuid": "48bc0853-617d-4401-b665-4c5ba1c49d57",
     "showTitle": false,
     "tableResultSettingsMap": {},
     "title": ""
    }
   },
   "source": [
    "# Part 3: Custom MLflow Model\n",
    "\n",
    "MLflow for GenAI Guide Overview\n",
    "\n",
    "This is part three of a four-part guide for using MLflow to experiment with and deploy your generative AI projects.\n",
    "\n",
    "In part one, we started with the problem of generating social media posts following the style of a set of example posts. We used MLautologging and tracing to keep track of our early informal experiments as we developed a simple prototype. In part two, we used MLflow's evaluation tools to set up and run a more structured experiment comparing the performance of a couple of different models and prompts.\n",
    "\n",
    "Now we are ready to prepare our GenAI application for production. In this part of the guide, we will:\n",
    "\n",
    "- Wrap our model logic in a custom MLflow `PyFunc` model, allowing us to keep track of model versions and configurations, specify how we would like tracing handled in different environments, and validate the model prior to serving.\n",
    "- Create a staging and production model in the model registry and register our custom model as a model version in the registry.\n",
    "\n",
    "## Prerequisites and Setup\n",
    "\n",
    "This guide assumes you have read and worked through parts [one](../part_1) and [two](../part_2), and will frequently reference code and concepts introduced there. It also assumes you have followed the setup instructions detailed there.\n",
    "\n",
    "## Encapsulating our Model Logic\n",
    "\n",
    "At this point, we have prototyped our GenAI application and refined that prototype through the evaluation process, settling on a model and prompt that generate posts that are accurate and that effectively copy the style of the example posts.\n",
    "\n",
    "Now that we have a working application, we need to prepare it for production use. We need to ensure that the application's interface is standardized and well defined so any downstream parts of the application, such as a frontend GUI, can effectively use the model. We also need to make sure the model environment and dependencies are recorded and packaged with the model in order to make sure the model can be deployed across different environments without dependency conflicts. Furthermore, encapsulating our application logic in a custom PyFunc model will allow us to keep track of model versions and configurations, specify how we would like tracing handled in different environments, and validate the model prior to serving.\n",
    "\n",
    "[MLflow models](/model) address these needs by providing a standardized way to save model logic, configurations, and dependencies. They also provide a standardized interface and deployment system, ensuring the model can be deployed and used across different environments.\n",
    "\n",
    "| **Component** | Without MLflow Model | With MLflow Model |\n",
    "|-----------|--------------|---------------------------|\n",
    "| **Code Organization** | Scattered across files, ad-hoc structure | Single, well-defined class with standard interface |\n",
    "| **Dependencies** | Manually tracked and installed | Automatically captured and packaged with model |\n",
    "| **Configuration** | Hard-coded or managed separately | Version-controlled with model artifacts |\n",
    "| **Tracing** | Autologging or ad-hoc implementation | Configurable, standardized tracing controls |\n",
    "| **Input/Output** | Undefined schema, inconsistent validation | Type-hinted interface with automatic validation |\n",
    "| **Deployment** | Custom deployment logic needed | Standard MLflow deployment options |\n",
    "| **Versioning** | Manual version tracking | Automatic versioning through Model Registry |\n",
    "| **Environment** | \"Works on my machine\" | Reproducible across environments |\n",
    "\n",
    "### ChatModel or PyFunc?\n",
    "\n",
    "MLflow offers the [ChatModel](/llms/chat-model-intro/) class for setting up custom GenAI models with a chat interface. While this may seem like the obvious choice for our application, we will actually be using a custom [PyFunc](/model/python_model) model instead. Though our application *uses* a chat model, it is not, itself, a chat model: the inputs and outputs are not lists of messages.\n",
    "\n",
    "The ChatModel interface is a great choice for developing and deploying conversational models with standardized input/output schemas following the OpenAI spec. PyFunc models, on the other hand, offer full control over the model interface.\n",
    "\n",
    "### Defining the Custom Model\n",
    "\n",
    "There are a few key considerations we will make when defining the custom model.\n",
    "\n",
    "1. **Tracing:** We want to make sure tracing is easily configurable. There may, for example, be circumstances where tracing is not permissible in a production environment because of user data privacy concerns. To address cases like this, we will make tracing configurable via an environment variable.\n",
    "\n",
    "2. **Configuration:** We will make some of the application's configuration, such as the system prompt and model provider, available to the model via a configuration dictionary. This is a good idea for parameters we expect we may want to change in the future. It will allow us to log updated versions of the model without needing to change the custom PyFunc model code.\n",
    "\n",
    "3. **Models from Code:** We will save our model logic in a separate file called `model.py` and include the line `set_model(SocialPoster())` at the end of the file. When we log the model, we will set the `code_path` argument to `model.py`. This is the [models from code](/model/models-from-code) approach to logging models, which is a good fit for GenAI applications using LLM APIs, where there are no model weights that need to be serialized.\n",
    "\n",
    "4. **Input and Output Schema:** MLflow 2.20 introduced the ability to define model signatures for custom PyFunc models [using type hints](/model/python_model#model-signature-inference-based-on-type-hints) in the `predict` method. We will use this approach to define the input and output schema for our model.\n",
    "\n",
    "#### The PythonModel Class"
   ]
  },
  {
   "cell_type": "code",
   "execution_count": 0,
   "metadata": {
    "application/vnd.databricks.v1+cell": {
     "cellMetadata": {
      "byteLimit": 2048000,
      "rowLimit": 10000
     },
     "inputWidgets": {},
     "nuid": "55c237e4-1b21-4ded-a0d9-086d84bff51e",
     "showTitle": false,
     "tableResultSettingsMap": {},
     "title": ""
    }
   },
   "outputs": [
    {
     "output_type": "stream",
     "name": "stdout",
     "output_type": "stream",
     "text": [
      "Collecting markdownify\n  Obtaining dependency information for markdownify from https://files.pythonhosted.org/packages/64/11/b751af7ad41b254a802cf52f7bc1fca7cabe2388132f2ce60a1a6b9b9622/markdownify-1.1.0-py3-none-any.whl.metadata\n  Downloading markdownify-1.1.0-py3-none-any.whl.metadata (9.1 kB)\nCollecting beautifulsoup4<5,>=4.9 (from markdownify)\n  Obtaining dependency information for beautifulsoup4<5,>=4.9 from https://files.pythonhosted.org/packages/f9/49/6abb616eb3cbab6a7cca303dc02fdf3836de2e0b834bf966a7f5271a34d8/beautifulsoup4-4.13.3-py3-none-any.whl.metadata\n  Downloading beautifulsoup4-4.13.3-py3-none-any.whl.metadata (3.8 kB)\nRequirement already satisfied: six<2,>=1.15 in /usr/lib/python3/dist-packages (from markdownify) (1.16.0)\nCollecting soupsieve>1.2 (from beautifulsoup4<5,>=4.9->markdownify)\n  Obtaining dependency information for soupsieve>1.2 from https://files.pythonhosted.org/packages/d1/c2/fe97d779f3ef3b15f05c94a2f1e3d21732574ed441687474db9d342a7315/soupsieve-2.6-py3-none-any.whl.metadata\n  Downloading soupsieve-2.6-py3-none-any.whl.metadata (4.6 kB)\nRequirement already satisfied: typing-extensions>=4.0.0 in /local_disk0/.ephemeral_nfs/cluster_libraries/python/lib/python3.11/site-packages (from beautifulsoup4<5,>=4.9->markdownify) (4.13.2)\nDownloading markdownify-1.1.0-py3-none-any.whl (13 kB)\nDownloading beautifulsoup4-4.13.3-py3-none-any.whl (186 kB)\n\u001B[?25l   \u001B[90m━━━━━━━━━━━━━━━━━━━━━━━━━━━━━━━━━━━━━━━━\u001B[0m \u001B[32m0.0/186.0 kB\u001B[0m \u001B[31m?\u001B[0m eta \u001B[36m-:--:--\u001B[0m\n\u001B[2K   \u001B[90m━━━━━━━━━━━━━━━━━━━━━━━━━━━━━━━━━━━━━━━━\u001B[0m \u001B[32m186.0/186.0 kB\u001B[0m \u001B[31m13.7 MB/s\u001B[0m eta \u001B[36m0:00:00\u001B[0m\n\u001B[?25hDownloading soupsieve-2.6-py3-none-any.whl (36 kB)\nInstalling collected packages: soupsieve, beautifulsoup4, markdownify\nSuccessfully installed beautifulsoup4-4.13.3 markdownify-1.1.0 soupsieve-2.6\n\u001B[43mNote: you may need to restart the kernel using %restart_python or dbutils.library.restartPython() to use updated packages.\u001B[0m\n"
     ]
    }
   ],
   "source": [
    "!pip install markdownify openai"
   ]
  },
  {
   "cell_type": "code",
   "execution_count": 0,
   "metadata": {
    "application/vnd.databricks.v1+cell": {
     "cellMetadata": {
      "byteLimit": 2048000,
      "rowLimit": 10000
     },
     "inputWidgets": {},
     "nuid": "828fbe74-b894-404d-bfc0-56d4f78c3fd3",
     "showTitle": false,
     "tableResultSettingsMap": {},
     "title": ""
    }
   },
   "outputs": [],
   "source": [
    "%restart_python"
   ]
  },
  {
   "cell_type": "markdown",
   "metadata": {
    "application/vnd.databricks.v1+cell": {
     "cellMetadata": {},
     "inputWidgets": {},
     "nuid": "b2939f78-f19b-451c-9b77-29a12a74b328",
     "showTitle": false,
     "tableResultSettingsMap": {},
     "title": ""
    }
   },
   "source": [
    "model.py"
   ]
  },
  {
   "cell_type": "markdown",
   "metadata": {
    "application/vnd.databricks.v1+cell": {
     "cellMetadata": {},
     "inputWidgets": {},
     "nuid": "67ec0403-84bc-4a6c-81d0-05d6fc3e6bed",
     "showTitle": false,
     "tableResultSettingsMap": {},
     "title": ""
    }
   },
   "source": [
    "\n",
    "Let's walk through the code in detail.\n",
    "\n",
    "- The `SocialPoster` class inherits from `PythonModel`. This is the base class for all custom PyFunc models. It requires a `predict` method that takes a `context` and a list of `model_input` and returns a list of `model_output`.\n",
    "\n",
    "- The core application logic is implemented in the `predict` method. This method:\n",
    "  1. Checks whether tracing is enabled and sets it according to the `tracing_enabled` attribute using the `mlflow.tracing.enable()` and `mlflow.tracing.disable()` methods.\n",
    "  2. Starts a new tracing span with the name \"predict\" and the type \"CHAIN\". This span will be the parent span for the rest of the model's execution.\n",
    "  3. Assembles the prompt from the example posts, context, and additional instructions using the `_webpage_to_markdown` and `_generate_prompt` helper functions.\n",
    "  4. Generates a post using the using the `_generate_post` helper function.\n",
    "  5. Returns the generated post.\n",
    "\n",
    "- The `predict` method calls the `_webpage_to_markdown`, `_generate_prompt`, and `_generate_post` helper functions that define specific steps in the application logic. We defined these functions in part 1 of this guide. Here, we add the `@mlflow.trace` decorator to the functions to make sure they are traced, giving us visibility into the application's execution flow and enabling us to diagnose any issues that may arise.\n",
    "\n",
    "- The `load_context` method is called once when the model is loaded and is responsible for initializing model-specific attributes and resources. In our case, it loads configuration values from the model context, sets up tracing based on an environment variable, and initializes the appropriate client based on the configured model provider. This initialization approach ensures that our model has all necessary resources and configurations ready before any predictions are made, while keeping sensitive information like API keys separate from the model artifacts.\n"
   ]
  },
  {
   "cell_type": "code",
   "execution_count": 0,
   "metadata": {
    "application/vnd.databricks.v1+cell": {
     "cellMetadata": {
      "byteLimit": 2048000,
      "rowLimit": 10000
     },
     "inputWidgets": {},
     "nuid": "9b105f9e-4f89-4605-b04a-7f06f99b84e3",
     "showTitle": false,
     "tableResultSettingsMap": {},
     "title": ""
    }
   },
   "outputs": [],
   "source": [
    "import mlflow\n",
    "from mlflow.pyfunc import PythonModel\n",
    "from mlflow.models import set_model\n",
    "from markdownify import markdownify\n",
    "import requests\n",
    "import os\n",
    "from openai import OpenAI\n",
    "from pydantic import BaseModel\n",
    "from typing import List\n",
    "\n",
    "class SocialPostInput(BaseModel):\n",
    "    example_posts: List[str]\n",
    "    context_url: str\n",
    "    additional_instructions: str\n",
    "\n",
    "class SocialPostOutput(BaseModel):\n",
    "    post: str\n",
    "\n",
    "class SocialPoster(PythonModel):\n",
    "    def __init__(self):\n",
    "        self.tracing_enabled = False\n",
    "\n",
    "    @mlflow.trace(span_type=\"FUNCTION\")\n",
    "    def _webpage_to_markdown(self, url):\n",
    "        # Get webpage content\n",
    "        response = requests.get(url)\n",
    "        html_content = response.text\n",
    "\n",
    "        # Convert to markdown\n",
    "        markdown_content = markdownify(html_content)\n",
    "\n",
    "        return markdown_content\n",
    "\n",
    "    @mlflow.trace(span_type=\"FUNCTION\")\n",
    "    def _generate_prompt(\n",
    "        self, example_posts, context, additional_instructions\n",
    "    ):\n",
    "        \"\"\"Generate a prompt for the LLM based on the example posts, context, and additional instructions.\"\"\"\n",
    "        example_posts = \"\\n\".join(\n",
    "            [f\"Example {i+1}:\\n{post}\" for i, post in enumerate(example_posts)]\n",
    "        )\n",
    "        prompt = self.prompt_template.format(\n",
    "            example_posts=example_posts,\n",
    "            context=context,\n",
    "            additional_instructions=additional_instructions,\n",
    "        )\n",
    "\n",
    "        formatted_prompt = [\n",
    "            {\"role\": \"system\", \"content\": self.system_prompt},\n",
    "            {\"role\": \"user\", \"content\": prompt},\n",
    "        ]\n",
    "\n",
    "        return formatted_prompt\n",
    "\n",
    "    @mlflow.trace(span_type=\"LLM\")\n",
    "    def _generate_post(self, messages):\n",
    "        response = self.client.chat.completions.create(\n",
    "            model=self.model_name,\n",
    "            messages=messages,\n",
    "            max_tokens=1000,\n",
    "        )\n",
    "        return response.choices[0].message.content\n",
    "\n",
    "    def load_context(self, context):\n",
    "        self.system_prompt = context.model_config[\"system_prompt\"]\n",
    "        self.prompt_template = context.model_config[\"prompt_template\"]\n",
    "        self.model_provider = context.model_config[\"model_provider\"]\n",
    "        self.model_name = context.model_config[\"model_name\"]\n",
    "        self.tracing_enabled = os.getenv(\"MLFLOW_TRACING_ENABLED\", \"false\").lower() == \"true\"\n",
    "\n",
    "        if self.model_provider == \"openai\":\n",
    "            self.client = OpenAI()\n",
    "        elif self.model_provider == \"google\":\n",
    "            self.client = OpenAI(\n",
    "                base_url=\"https://generativelanguage.googleapis.com/v1beta/openai/\",\n",
    "                api_key=os.getenv(\"GEMINI_API_KEY\")\n",
    "            )\n",
    "        else:\n",
    "            raise ValueError(f\"Unsupported model provider: {self.model_provider}\")\n",
    "\n",
    "    def predict(self, context, model_input: list[SocialPostInput]) -> list[SocialPostOutput]:\n",
    "        # only one input for illustration purposes\n",
    "        model_input = model_input[0].model_dump()\n",
    "        # check whether tracing is enabled and set it according to self.tracing_enabled\n",
    "        if not mlflow.tracing.provider.is_tracing_enabled() == self.tracing_enabled:\n",
    "            mlflow.tracing.enable() if self.tracing_enabled else mlflow.tracing.disable()\n",
    "\n",
    "        with mlflow.start_span(name=\"predict\", span_type=\"CHAIN\") as parent_span:\n",
    "            parent_span.set_inputs(model_input)\n",
    "            example_posts = model_input.get(\"example_posts\")\n",
    "            context_url = model_input.get(\"context_url\")\n",
    "            markdown_context = self._webpage_to_markdown(context_url)\n",
    "            additional_instructions = model_input.get(\"additional_instructions\")\n",
    "\n",
    "            prompt = self._generate_prompt(example_posts, markdown_context, additional_instructions)\n",
    "            post = self._generate_post(prompt)\n",
    "            parent_span.set_outputs({\"post\": post})\n",
    "        return [{\"post\": post}]\n",
    "\n",
    "set_model(SocialPoster())"
   ]
  },
  {
   "cell_type": "markdown",
   "metadata": {
    "application/vnd.databricks.v1+cell": {
     "cellMetadata": {},
     "inputWidgets": {},
     "nuid": "6881b652-dff1-40e1-8c86-78b3e41a9165",
     "showTitle": false,
     "tableResultSettingsMap": {},
     "title": ""
    }
   },
   "source": [
    "### Setting up the Model Configuration\n",
    "\n",
    "Now that we have defined the custom model, we need to set up the model configuration. Though optional, using a configuration that is separate from the application logic gives us an easy way to see and update aspects of the model's behavior without needing to change the model code.\n",
    "\n",
    "|  | Configuration as part of Model Code | External Configuration |\n",
    "|------------|------------------------|----------------------|\n",
    "| **Flexibility** | Configuration changes require updating core model logic in code | Frequently updated elements like prompts and model settings can be modified without code changes |\n",
    "| **Maintainability** | Configuration mixed with application logic can be difficult to identify and modify | Clear separation of concerns between model logic and configuration |\n",
    "| **Reproducibility** | Configuration choices buried in code | Configuration choices easy to identify in each MLflow run |\n",
    "\n",
    "This separation of configuration from code is particularly valuable in GenAI applications, where we often need to experiment with different prompts, model parameters, and even model providers. The external configuration approach makes it easier to track these experiments while keeping the core model logic clean and maintainable.\n",
    "\n",
    "#### Writing the Configuration Dict\n",
    "\n",
    "The `load_context` method we defined expects a `model_config` dictionary with the following keys:\n",
    "\n",
    "- `system_prompt`: The system prompt to use for the model.\n",
    "- `prompt_template`: The prompt template to use for the model.\n",
    "- `model_provider`: The model provider to use for the model.\n",
    "- `model_name`: The name of the model to use for the model.\n",
    "\n",
    "Consistent with the evaluation-based results from part 2, we will configure the model to use the `gemini-2.0-flash-exp` model from Google along with a detailed system prompt. We will save all of these expected elements in a `config` dictionary, which we will save along with the model during model logging.\n"
   ]
  },
  {
   "cell_type": "code",
   "execution_count": 0,
   "metadata": {
    "application/vnd.databricks.v1+cell": {
     "cellMetadata": {
      "byteLimit": 2048000,
      "rowLimit": 10000
     },
     "inputWidgets": {},
     "nuid": "5fc73ba5-3c4b-4dce-8c0b-e4614779375b",
     "showTitle": false,
     "tableResultSettingsMap": {},
     "title": ""
    }
   },
   "outputs": [],
   "source": [
    "system_prompt = \"\"\"You are a social media content specialist with expertise in matching writing styles and voice across platforms. Your task is to:\n",
    "\n",
    "1. Analyze the provided example post(s) by examining:\n",
    "\n",
    "   - Writing style, tone, and voice\n",
    "   - Sentence structure and length\n",
    "   - Use of hashtags, emojis, and formatting\n",
    "   - Engagement techniques and calls-to-action\n",
    "\n",
    "2. Generate a new LinkedIn post about the given topic that matches:\n",
    "\n",
    "   - The identified writing style and tone\n",
    "   - Similar structure and formatting choices\n",
    "   - Equivalent use of platform features and hashtags\n",
    "   - Comparable engagement elements\n",
    "\n",
    "3. Return only the generated post, formatted exactly as it would appear on LinkedIn, without any additional commentary or explanations.\"\"\"\n",
    "\n",
    "prompt_template = \"\"\"\n",
    "example posts:\n",
    "\n",
    "{example_posts}\n",
    "\n",
    "context:\n",
    "\n",
    "{context}\n",
    "\n",
    "additional instructions:\n",
    "\n",
    "{additional_instructions}\n",
    "\"\"\"\n",
    "\n",
    "config = {\n",
    "    \"system_prompt\": system_prompt,\n",
    "    \"prompt_template\": prompt_template,\n",
    "    \"model_provider\": \"google\",\n",
    "    \"model_name\": \"gemini-2.0-flash-exp\",\n",
    "}"
   ]
  },
  {
   "cell_type": "markdown",
   "metadata": {
    "application/vnd.databricks.v1+cell": {
     "cellMetadata": {},
     "inputWidgets": {},
     "nuid": "9485215a-17b6-46b6-80e2-514c8f51eb98",
     "showTitle": false,
     "tableResultSettingsMap": {},
     "title": ""
    }
   },
   "source": [
    "### Logging the model\n",
    "\n",
    "Now that we have defined the `SocialPoster` class (saved in `model.py`) and the `config` dictionary, we have everything we need to log the model. We will use the `mlflow.pyfunc.log_model` function to log the model.\n"
   ]
  },
  {
   "cell_type": "code",
   "execution_count": 0,
   "metadata": {
    "application/vnd.databricks.v1+cell": {
     "cellMetadata": {
      "byteLimit": 2048000,
      "rowLimit": 10000
     },
     "inputWidgets": {},
     "nuid": "b45cd94e-09d5-4198-83d0-7afa000b59d4",
     "showTitle": false,
     "tableResultSettingsMap": {},
     "title": ""
    }
   },
   "outputs": [
    {
     "output_type": "stream",
     "name": "stderr",
     "output_type": "stream",
     "text": [
      "2025/04/13 20:59:08 INFO mlflow.models.signature: Inferring model signature from type hints\n2025/04/13 20:59:11 WARNING mlflow.utils.environment: Encountered an unexpected error while inferring pip requirements (model URI: /local_disk0/repl_tmp_data/ReplId-19630-e8591-d/tmpj9tf1i3j/model, flavor: python_function). Fall back to return ['cloudpickle==2.2.1']. Set logging level to DEBUG to see the full traceback. \n"
     ]
    },
    {
     "output_type": "display_data",
     "data": {
      "application/vnd.jupyter.widget-view+json": {
       "model_id": "0bc3b34f8e7f4dcb9802c6abb4953baa",
       "version_major": 2,
       "version_minor": 0
      },
      "text/plain": [
       "Uploading artifacts:   0%|          | 0/9 [00:00<?, ?it/s]"
      ]
     },
     "metadata": {},
     "output_type": "display_data"
    }
   ],
   "source": [
    "code_path = \"model.py\"\n",
    "\n",
    "with mlflow.start_run():\n",
    "    model_info = mlflow.pyfunc.log_model(\n",
    "        \"social_poster\",\n",
    "        python_model=code_path,\n",
    "        model_config=config,\n",
    "    )"
   ]
  },
  {
   "cell_type": "markdown",
   "metadata": {
    "application/vnd.databricks.v1+cell": {
     "cellMetadata": {},
     "inputWidgets": {},
     "nuid": "582ca775-20c5-4c6c-ba27-fcc69ff400cd",
     "showTitle": false,
     "tableResultSettingsMap": {},
     "title": ""
    }
   },
   "source": [
    "\n",
    "This code logs the model and saves it to the MLflow tracking server. It logs the model code defined in `model.py` and saves the model configuration in the `config` dictionary. You can inspect all of this information in the MLflow UI.\n",
    "\n",
    "**Logged Model in the MLflow UI**\n",
    "\n",
    "In the MLflow UI, we can inspect the model code, dependencies, and configuration.\n",
    "\n",
    "*Model Code*\n",
    "\n",
    "![Logged Model](/images/llms/mlflow-for-genai/9_logged_model.png)\n",
    "\n",
    "*Model Configuration*\n",
    "\n",
    "![Logged Model Configuration](/images/llms/mlflow-for-genai/10_model_config.png)\n",
    "\n",
    "Though we have successfully logged the model, we still aren't certain that it will work as expected in production. Let's verify that the model is ready for deployment.\n",
    "\n",
    "## Validating the model prior to deployment\n",
    "\n",
    "We need to be sure that our model will work as expected once we deploy it to a serving endpoint. To this end, we will construct a simple input example in the format we intend to use in production and validate it with the `validate_serving_input` method.\n"
   ]
  },
  {
   "cell_type": "code",
   "execution_count": 0,
   "metadata": {
    "application/vnd.databricks.v1+cell": {
     "cellMetadata": {
      "byteLimit": 2048000,
      "rowLimit": 10000
     },
     "inputWidgets": {},
     "nuid": "0e106d93-af3d-4438-9762-2f3f29aa4ef0",
     "showTitle": false,
     "tableResultSettingsMap": {},
     "title": ""
    }
   },
   "outputs": [],
   "source": [
    "import os\n",
    "from mlflow.models import convert_input_example_to_serving_input\n",
    "\n",
    "sample_input = [{\n",
    "    \"example_posts\": [\"Example 1: This is an example post.\", \"Example 2: This is another example post.\"],\n",
    "    \"context_url\": \"https://www.example.com\",\n",
    "    \"additional_instructions\": \"The post should be concise and to the point...\"\n",
    "}]\n",
    "\n",
    "serving_payload = convert_input_example_to_serving_input(input_example=sample_input)\n",
    "\n",
    "model_uri = model_info.model_uri"
   ]
  },
  {
   "cell_type": "markdown",
   "metadata": {
    "application/vnd.databricks.v1+cell": {
     "cellMetadata": {},
     "inputWidgets": {},
     "nuid": "b9128716-8bb3-453a-93d6-3861c0e49e99",
     "showTitle": false,
     "tableResultSettingsMap": {},
     "title": ""
    }
   },
   "source": [
    "\n",
    "# Validate the serving payload works on the model\n",
    "validate_serving_input(model_uri, serving_payload)\n",
    "\n",
    "Which returns:\n"
   ]
  },
  {
   "cell_type": "code",
   "execution_count": 0,
   "metadata": {
    "application/vnd.databricks.v1+cell": {
     "cellMetadata": {
      "byteLimit": 2048000,
      "rowLimit": 10000
     },
     "inputWidgets": {},
     "nuid": "13b16aae-187e-4913-b6e5-ad7cdde88b1f",
     "showTitle": false,
     "tableResultSettingsMap": {},
     "title": ""
    }
   },
   "outputs": [
    {
     "output_type": "execute_result",
     "data": {
      "text/plain": [
       "[{'post': 'Example Domain. This domain is for illustrative examples. You can use it freely. More info: [https://www.iana.org/domains/example](https://www.iana.org/domains/example)\\n'}]"
      ]
     },
     "execution_count": 6,
     "metadata": {},
     "output_type": "execute_result"
    }
   ],
   "source": [
    "[{'post': 'Example Domain. This domain is for illustrative examples. You can use it freely. More info: [https://www.iana.org/domains/example](https://www.iana.org/domains/example)\\n'}]\n"
   ]
  },
  {
   "cell_type": "code",
   "execution_count": 0,
   "metadata": {
    "application/vnd.databricks.v1+cell": {
     "cellMetadata": {
      "byteLimit": 2048000,
      "rowLimit": 10000
     },
     "inputWidgets": {},
     "nuid": "bbb1dfdc-6f89-4b7b-b059-93dbedaa2fde",
     "showTitle": false,
     "tableResultSettingsMap": {},
     "title": ""
    }
   },
   "outputs": [
    {
     "output_type": "display_data",
     "data": {
      "application/vnd.jupyter.widget-view+json": {
       "model_id": "26413dbcbd244ad9a093b7bd0e82f160",
       "version_major": 2,
       "version_minor": 0
      },
      "text/plain": [
       "Downloading artifacts:   0%|          | 0/9 [00:00<?, ?it/s]"
      ]
     },
     "metadata": {},
     "output_type": "display_data"
    },
    {
     "output_type": "execute_result",
     "data": {
      "text/plain": [
       "[{'post': 'Example Domain is reserved for illustrative examples. Use it freely in your documentation without asking for permission.\\n\\nLearn more about its purpose and usage guidelines: [https://www.iana.org/domains/example](https://www.iana.org/domains/example)\\n\\n#ExampleDomain #Documentation #IANA #ReservedDomain #Examples\\n'}]"
      ]
     },
     "execution_count": 14,
     "metadata": {},
     "output_type": "execute_result"
    },
    {
     "output_type": "display_data",
     "data": {
      "application/databricks.mlflow.trace": "\"tr-e37713e9c1b343d1b7c0a53259a2cad6\"",
      "text/plain": [
       "Trace(request_id=tr-e37713e9c1b343d1b7c0a53259a2cad6)"
      ]
     },
     "metadata": {},
     "output_type": "display_data"
    }
   ],
   "source": [
    "from mlflow.models import validate_serving_input\n",
    "\n",
    "os.environ[\"GEMINI_API_KEY\"] = dbutils.secrets.get(scope=\"mlflow_genai\", key=\"GEMINI_API_KEY\")\n",
    "\n",
    "os.environ[\"MLFLOW_TRACING_ENABLED\"] = \"true\"\n",
    "validate_serving_input(model_uri, serving_payload)"
   ]
  },
  {
   "cell_type": "markdown",
   "metadata": {
    "application/vnd.databricks.v1+cell": {
     "cellMetadata": {},
     "inputWidgets": {},
     "nuid": "b999fea3-11a8-4f55-a8d5-37119a38d7a1",
     "showTitle": false,
     "tableResultSettingsMap": {},
     "title": ""
    }
   },
   "source": [
    "\n",
    "## Registering the Model\n",
    "\n",
    "Now that we have created and validated our custom PyFunc model, let's register it to the MLflow model registry. The model registry is a great way to manage models and model versions. It will allow us to track the history of our model versions, define separate staging and production models, assign model aliases, and more.\n",
    "\n",
    "First, a quick note on terminology:\n",
    "\n",
    "- A **registered model** is a container for a group of model versions. It does not need to have any actual model artifacts in it.\n",
    "- A **model version** is registered to a registered model. It contains the actual model artifacts. One registered model can have many model versions.\n",
    "\n",
    "For example, you might have a \"sentiment-analyzer\" registered model that contains multiple versions as you iterate and improve your model over time. You might also have separate registered models for different environments (like staging and production) to manage the deployment lifecycle of your models.\n",
    "\n",
    "Now, let's register empty models for our staging and production environments:\n"
   ]
  },
  {
   "cell_type": "code",
   "execution_count": 0,
   "metadata": {
    "application/vnd.databricks.v1+cell": {
     "cellMetadata": {
      "byteLimit": 2048000,
      "rowLimit": 10000
     },
     "inputWidgets": {},
     "nuid": "2b45fe03-8033-4fe2-8e1e-14446c3e9d21",
     "showTitle": false,
     "tableResultSettingsMap": {},
     "title": ""
    }
   },
   "outputs": [
    {
     "output_type": "execute_result",
     "data": {
      "text/plain": [
       "<RegisteredModel: aliases={}, creation_timestamp=1744578933645, description='', last_updated_timestamp=1744578933645, latest_versions=None, name='mlflow_lightening_session.dev.social-ai-production', tags={}>"
      ]
     },
     "execution_count": 18,
     "metadata": {},
     "output_type": "execute_result"
    }
   ],
   "source": [
    "from mlflow import MlflowClient\n",
    "client = MlflowClient()\n",
    "\n",
    "client.create_registered_model(\"mlflow_lightening_session.dev.social-ai-staging\")\n",
    "client.create_registered_model(\"mlflow_lightening_session.dev.social-ai-production\")"
   ]
  },
  {
   "cell_type": "markdown",
   "metadata": {
    "application/vnd.databricks.v1+cell": {
     "cellMetadata": {},
     "inputWidgets": {},
     "nuid": "02c7d78d-8591-40a4-bd51-7e2596fc3b0d",
     "showTitle": false,
     "tableResultSettingsMap": {},
     "title": ""
    }
   },
   "source": [
    "\n",
    "Again, these registered models are *containers* and do not yet contain any model artifacts. These are simply used to organize our model versions. In the MLflow UI, we can see the registered models without associated versions.\n",
    "\n",
    "![Registered Models](/images/llms/mlflow-for-genai/12_registered_models.png)\n",
    "\n",
    "Now we can register our logged model version to the staging model:\n"
   ]
  },
  {
   "cell_type": "code",
   "execution_count": 0,
   "metadata": {
    "application/vnd.databricks.v1+cell": {
     "cellMetadata": {
      "byteLimit": 2048000,
      "rowLimit": 10000
     },
     "inputWidgets": {},
     "nuid": "d090471d-6fda-4c23-8f83-5000021c1b68",
     "showTitle": false,
     "tableResultSettingsMap": {},
     "title": ""
    }
   },
   "outputs": [
    {
     "output_type": "stream",
     "name": "stderr",
     "output_type": "stream",
     "text": [
      "2025/04/13 21:15:43 WARNING mlflow.store._unity_catalog.registry.rest_store: Unable to get model version source run's workspace ID from request headers. No run link will be recorded for the model version\n"
     ]
    },
    {
     "output_type": "display_data",
     "data": {
      "application/vnd.jupyter.widget-view+json": {
       "model_id": "b2874a6ed0bd4fb585d537d2d706ddd7",
       "version_major": 2,
       "version_minor": 0
      },
      "text/plain": [
       "Downloading artifacts:   0%|          | 0/9 [00:00<?, ?it/s]"
      ]
     },
     "metadata": {},
     "output_type": "display_data"
    },
    {
     "output_type": "display_data",
     "data": {
      "application/vnd.jupyter.widget-view+json": {
       "model_id": "48040a4f87fa487cbd149e85f9591695",
       "version_major": 2,
       "version_minor": 0
      },
      "text/plain": [
       "Uploading artifacts:   0%|          | 0/9 [00:00<?, ?it/s]"
      ]
     },
     "metadata": {},
     "output_type": "display_data"
    }
   ],
   "source": [
    "mv = client.create_model_version(\n",
    "    name=\"mlflow_lightening_session.dev.social-ai-staging\",\n",
    "    source=model_info.model_uri)"
   ]
  },
  {
   "cell_type": "code",
   "execution_count": 0,
   "metadata": {
    "application/vnd.databricks.v1+cell": {
     "cellMetadata": {
      "byteLimit": 2048000,
      "rowLimit": 10000
     },
     "inputWidgets": {},
     "nuid": "6d4a8eb4-6e54-4d72-b010-92ee77a09f8f",
     "showTitle": false,
     "tableResultSettingsMap": {},
     "title": ""
    }
   },
   "outputs": [
    {
     "output_type": "execute_result",
     "data": {
      "text/plain": [
       "'mlflow_lightening_session.dev.social-ai-staging'"
      ]
     },
     "execution_count": 25,
     "metadata": {},
     "output_type": "execute_result"
    }
   ],
   "source": [
    "mv.name"
   ]
  },
  {
   "cell_type": "code",
   "execution_count": 0,
   "metadata": {
    "application/vnd.databricks.v1+cell": {
     "cellMetadata": {
      "byteLimit": 2048000,
      "rowLimit": 10000
     },
     "inputWidgets": {},
     "nuid": "80574276-0cf5-4d32-a5c0-892c34a5df0f",
     "showTitle": false,
     "tableResultSettingsMap": {},
     "title": ""
    }
   },
   "outputs": [],
   "source": [
    "client.set_registered_model_alias(\n",
    "    name=\"mlflow_lightening_session.dev.social-ai-staging\",\n",
    "    alias=\"latest-model\",\n",
    "    version=mv.version,\n",
    "        )"
   ]
  },
  {
   "cell_type": "code",
   "execution_count": 0,
   "metadata": {
    "application/vnd.databricks.v1+cell": {
     "cellMetadata": {
      "byteLimit": 2048000,
      "rowLimit": 10000
     },
     "inputWidgets": {},
     "nuid": "76f2724e-639c-436e-9b4b-67b3873444dc",
     "showTitle": false,
     "tableResultSettingsMap": {},
     "title": ""
    }
   },
   "outputs": [
    {
     "output_type": "display_data",
     "data": {
      "application/vnd.jupyter.widget-view+json": {
       "model_id": "666869fc0f2f4f09b29e4be25bc5bb3e",
       "version_major": 2,
       "version_minor": 0
      },
      "text/plain": [
       "Downloading artifacts:   0%|          | 0/9 [00:00<?, ?it/s]"
      ]
     },
     "metadata": {},
     "output_type": "display_data"
    },
    {
     "output_type": "execute_result",
     "data": {
      "text/plain": [
       "[{'post': 'Example Domain is reserved for illustrative examples. Use it freely in your documentation without asking! 📚\\n\\n[More information...](https://www.iana.org/domains/example)\\n\\n#ExampleDomain #Documentation #OpenSource #FreeResources\\n'}]"
      ]
     },
     "execution_count": 35,
     "metadata": {},
     "output_type": "execute_result"
    },
    {
     "output_type": "display_data",
     "data": {
      "application/databricks.mlflow.trace": "\"tr-8562954008b84c399e40ea3c0513a230\"",
      "text/plain": [
       "Trace(request_id=tr-8562954008b84c399e40ea3c0513a230)"
      ]
     },
     "metadata": {},
     "output_type": "display_data"
    }
   ],
   "source": [
    "model_uri = f\"models:/mlflow_lightening_session.dev.social-ai-staging@latest-model\"\n",
    "model = mlflow.pyfunc.load_model(model_uri)\n",
    "model.predict(sample_input)"
   ]
  },
  {
   "cell_type": "markdown",
   "metadata": {
    "application/vnd.databricks.v1+cell": {
     "cellMetadata": {},
     "inputWidgets": {},
     "nuid": "8c755880-8b29-45e7-bb5b-c6cda5a91a58",
     "showTitle": false,
     "tableResultSettingsMap": {},
     "title": ""
    }
   },
   "source": [
    "## Conclusion\n",
    "In this part of the guide, we have encapsulated our model logic in a custom PyFunc model, set up tracing, validated the model, and registered it with MLflow. Specifically, we have seen how to:\n",
    "\n",
    "Define a custom PyFunc model and set up tracing.\n",
    "Define the PyFunc model predict method's signature with a Pydantic class as a type hint.\n",
    "Set up tracing to be configurable via an environment variable.\n",
    "Set up an external configuration to manage configurable aspects of the model we expect we might want to change in the future.\n",
    "Validate the model prior to deployment.\n",
    "Register the model with MLflow's model registry.\n",
    "In the next and final part of this guide, we will deploy the model to a staging environment, promote it to production, introduce a new challenger model to evaluate against the production model, and then promote the challenger model to production.\n",
    "\n"
   ]
  },
  {
   "cell_type": "code",
   "execution_count": 0,
   "metadata": {
    "application/vnd.databricks.v1+cell": {
     "cellMetadata": {},
     "inputWidgets": {},
     "nuid": "be0c3d14-bfe4-4438-8d25-c6c12740a185",
     "showTitle": false,
     "tableResultSettingsMap": {},
     "title": ""
    }
   },
   "outputs": [],
   "source": []
  }
 ],
 "metadata": {
  "application/vnd.databricks.v1+notebook": {
   "computePreferences": null,
   "dashboards": [],
   "environmentMetadata": {
    "base_environment": "",
    "environment_version": "2"
   },
   "inputWidgetPreferences": null,
   "language": "python",
   "notebookMetadata": {
    "pythonIndentUnit": 4
   },
   "notebookName": "MLflow GenAI 3",
   "widgets": {}
  },
  "language_info": {
   "name": "python"
  }
 },
 "nbformat": 4,
 "nbformat_minor": 0
}